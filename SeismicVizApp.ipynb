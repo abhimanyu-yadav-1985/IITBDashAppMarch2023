{
  "cells": [
    {
      "cell_type": "markdown",
      "metadata": {
        "id": "vWHiAY0r_c75"
      },
      "source": [
        "# Web App Development basics"
      ]
    },
    {
      "cell_type": "markdown",
      "source": [
        "\n",
        "## **Single page applications**\n",
        "\n",
        "A single page application is a website or web application that dynamically rewrites a current web page with new data from the web server, instead of the default method of a web browser loading entire new pages.\n",
        "\n",
        "A mature & useful web app development framework for python: [Dash](https://dash.plotly.com/?_gl=1*exlz93*_ga*MTg2MjUzNDkxMi4xNjgwMDUzNzY0*_ga_6G7EE0JNSC*MTY4MDA1Mzc2My4xLjEuMTY4MDA1Mzg2My4wLjAuMA..)\n",
        "\n",
        "\n",
        "\n",
        "---\n",
        "\n"
      ],
      "metadata": {
        "id": "LY-4IZRAA1D5"
      }
    },
    {
      "cell_type": "markdown",
      "metadata": {
        "id": "LzKGCF9I_c76"
      },
      "source": [
        "### Intro - Why Dash?\n",
        "\n",
        "- DASH enables users to rapidly create **interactive** dashboards and data-driven web applications using regular Python.\n",
        "- Rendered on the browser, making it a cross-platform solution.\n",
        "- Uses Flask API, React.js and Plotly.js as its backbone.           \n",
        "- DASH is “React for Python”: Python is the only other tech stack one needs to know.\n",
        "\n",
        "- Advantages: \n",
        "    - Easy to use.\n",
        "    - Quick app development.\n",
        "    - Suitable for data scientists, who may not be very familiar with web development.\n",
        "    - Possible, but not mandatory to include HTML and CSS elements to elevate the design.\n",
        "\n",
        "---------------------------------------------------------------"
      ]
    },
    {
      "cell_type": "markdown",
      "metadata": {
        "id": "Y4SmW6Vv_c76"
      },
      "source": [
        "### What's in store for this session?\n",
        "\n",
        "- Intro to Dash\n",
        "- Intro to Plotly\n",
        "- Dash app definition\n",
        "- Dash building blocks\n",
        "    - Layout\n",
        "    - Callbacks\n",
        "- Dash Core Components (dcc)\n",
        "- Dash Mantine Components (dmc) : A frontend component library\n",
        "---"
      ]
    },
    {
      "cell_type": "markdown",
      "source": [
        "Dependencies Not in colab and need to be manually installed\n",
        "*   jupyter_dash\n",
        "*   [dash_mantine_commponents](https://www.dash-mantine-components.com/)\n"
      ],
      "metadata": {
        "id": "zn1kfkgh_9_C"
      }
    },
    {
      "cell_type": "code",
      "source": [
        "!pip install jupyter_dash"
      ],
      "metadata": {
        "colab": {
          "base_uri": "https://localhost:8080/"
        },
        "id": "4BLPs95U_pQ3",
        "outputId": "dd8aaa2a-c5e7-40ea-a762-0afb95b75166"
      },
      "execution_count": null,
      "outputs": [
        {
          "output_type": "stream",
          "name": "stdout",
          "text": [
            "Looking in indexes: https://pypi.org/simple, https://us-python.pkg.dev/colab-wheels/public/simple/\n",
            "Collecting jupyter_dash\n",
            "  Downloading jupyter_dash-0.4.2-py3-none-any.whl (23 kB)\n",
            "Collecting retrying\n",
            "  Downloading retrying-1.3.4-py3-none-any.whl (11 kB)\n",
            "Requirement already satisfied: nest-asyncio in /usr/local/lib/python3.9/dist-packages (from jupyter_dash) (1.5.6)\n",
            "Collecting ansi2html\n",
            "  Downloading ansi2html-1.8.0-py3-none-any.whl (16 kB)\n",
            "Requirement already satisfied: requests in /usr/local/lib/python3.9/dist-packages (from jupyter_dash) (2.27.1)\n",
            "Requirement already satisfied: ipython in /usr/local/lib/python3.9/dist-packages (from jupyter_dash) (7.9.0)\n",
            "Requirement already satisfied: ipykernel in /usr/local/lib/python3.9/dist-packages (from jupyter_dash) (5.3.4)\n",
            "Requirement already satisfied: flask in /usr/local/lib/python3.9/dist-packages (from jupyter_dash) (2.2.3)\n",
            "Collecting dash\n",
            "  Downloading dash-2.9.1-py3-none-any.whl (10.2 MB)\n",
            "\u001b[2K     \u001b[90m━━━━━━━━━━━━━━━━━━━━━━━━━━━━━━━━━━━━━━━━\u001b[0m \u001b[32m10.2/10.2 MB\u001b[0m \u001b[31m34.5 MB/s\u001b[0m eta \u001b[36m0:00:00\u001b[0m\n",
            "\u001b[?25hCollecting dash-html-components==2.0.0\n",
            "  Downloading dash_html_components-2.0.0-py3-none-any.whl (4.1 kB)\n",
            "Collecting dash-table==5.0.0\n",
            "  Downloading dash_table-5.0.0-py3-none-any.whl (3.9 kB)\n",
            "Collecting dash-core-components==2.0.0\n",
            "  Downloading dash_core_components-2.0.0-py3-none-any.whl (3.8 kB)\n",
            "Requirement already satisfied: plotly>=5.0.0 in /usr/local/lib/python3.9/dist-packages (from dash->jupyter_dash) (5.13.1)\n",
            "Requirement already satisfied: importlib-metadata>=3.6.0 in /usr/local/lib/python3.9/dist-packages (from flask->jupyter_dash) (6.1.0)\n",
            "Requirement already satisfied: Werkzeug>=2.2.2 in /usr/local/lib/python3.9/dist-packages (from flask->jupyter_dash) (2.2.3)\n",
            "Requirement already satisfied: Jinja2>=3.0 in /usr/local/lib/python3.9/dist-packages (from flask->jupyter_dash) (3.1.2)\n",
            "Requirement already satisfied: click>=8.0 in /usr/local/lib/python3.9/dist-packages (from flask->jupyter_dash) (8.1.3)\n",
            "Requirement already satisfied: itsdangerous>=2.0 in /usr/local/lib/python3.9/dist-packages (from flask->jupyter_dash) (2.1.2)\n",
            "Requirement already satisfied: tornado>=4.2 in /usr/local/lib/python3.9/dist-packages (from ipykernel->jupyter_dash) (6.2)\n",
            "Requirement already satisfied: jupyter-client in /usr/local/lib/python3.9/dist-packages (from ipykernel->jupyter_dash) (6.1.12)\n",
            "Requirement already satisfied: traitlets>=4.1.0 in /usr/local/lib/python3.9/dist-packages (from ipykernel->jupyter_dash) (5.7.1)\n",
            "Collecting jedi>=0.10\n",
            "  Downloading jedi-0.18.2-py2.py3-none-any.whl (1.6 MB)\n",
            "\u001b[2K     \u001b[90m━━━━━━━━━━━━━━━━━━━━━━━━━━━━━━━━━━━━━━━━\u001b[0m \u001b[32m1.6/1.6 MB\u001b[0m \u001b[31m17.8 MB/s\u001b[0m eta \u001b[36m0:00:00\u001b[0m\n",
            "\u001b[?25hRequirement already satisfied: pickleshare in /usr/local/lib/python3.9/dist-packages (from ipython->jupyter_dash) (0.7.5)\n",
            "Requirement already satisfied: decorator in /usr/local/lib/python3.9/dist-packages (from ipython->jupyter_dash) (4.4.2)\n",
            "Requirement already satisfied: prompt-toolkit<2.1.0,>=2.0.0 in /usr/local/lib/python3.9/dist-packages (from ipython->jupyter_dash) (2.0.10)\n",
            "Requirement already satisfied: setuptools>=18.5 in /usr/local/lib/python3.9/dist-packages (from ipython->jupyter_dash) (67.6.0)\n",
            "Requirement already satisfied: backcall in /usr/local/lib/python3.9/dist-packages (from ipython->jupyter_dash) (0.2.0)\n",
            "Requirement already satisfied: pygments in /usr/local/lib/python3.9/dist-packages (from ipython->jupyter_dash) (2.14.0)\n",
            "Requirement already satisfied: pexpect in /usr/local/lib/python3.9/dist-packages (from ipython->jupyter_dash) (4.8.0)\n",
            "Requirement already satisfied: charset-normalizer~=2.0.0 in /usr/local/lib/python3.9/dist-packages (from requests->jupyter_dash) (2.0.12)\n",
            "Requirement already satisfied: idna<4,>=2.5 in /usr/local/lib/python3.9/dist-packages (from requests->jupyter_dash) (3.4)\n",
            "Requirement already satisfied: urllib3<1.27,>=1.21.1 in /usr/local/lib/python3.9/dist-packages (from requests->jupyter_dash) (1.26.15)\n",
            "Requirement already satisfied: certifi>=2017.4.17 in /usr/local/lib/python3.9/dist-packages (from requests->jupyter_dash) (2022.12.7)\n",
            "Requirement already satisfied: six>=1.7.0 in /usr/local/lib/python3.9/dist-packages (from retrying->jupyter_dash) (1.16.0)\n",
            "Requirement already satisfied: zipp>=0.5 in /usr/local/lib/python3.9/dist-packages (from importlib-metadata>=3.6.0->flask->jupyter_dash) (3.15.0)\n",
            "Requirement already satisfied: parso<0.9.0,>=0.8.0 in /usr/local/lib/python3.9/dist-packages (from jedi>=0.10->ipython->jupyter_dash) (0.8.3)\n",
            "Requirement already satisfied: MarkupSafe>=2.0 in /usr/local/lib/python3.9/dist-packages (from Jinja2>=3.0->flask->jupyter_dash) (2.1.2)\n",
            "Requirement already satisfied: tenacity>=6.2.0 in /usr/local/lib/python3.9/dist-packages (from plotly>=5.0.0->dash->jupyter_dash) (8.2.2)\n",
            "Requirement already satisfied: wcwidth in /usr/local/lib/python3.9/dist-packages (from prompt-toolkit<2.1.0,>=2.0.0->ipython->jupyter_dash) (0.2.6)\n",
            "Requirement already satisfied: python-dateutil>=2.1 in /usr/local/lib/python3.9/dist-packages (from jupyter-client->ipykernel->jupyter_dash) (2.8.2)\n",
            "Requirement already satisfied: jupyter-core>=4.6.0 in /usr/local/lib/python3.9/dist-packages (from jupyter-client->ipykernel->jupyter_dash) (5.3.0)\n",
            "Requirement already satisfied: pyzmq>=13 in /usr/local/lib/python3.9/dist-packages (from jupyter-client->ipykernel->jupyter_dash) (23.2.1)\n",
            "Requirement already satisfied: ptyprocess>=0.5 in /usr/local/lib/python3.9/dist-packages (from pexpect->ipython->jupyter_dash) (0.7.0)\n",
            "Requirement already satisfied: platformdirs>=2.5 in /usr/local/lib/python3.9/dist-packages (from jupyter-core>=4.6.0->jupyter-client->ipykernel->jupyter_dash) (3.1.1)\n",
            "Installing collected packages: dash-table, dash-html-components, dash-core-components, retrying, jedi, ansi2html, dash, jupyter_dash\n",
            "Successfully installed ansi2html-1.8.0 dash-2.9.1 dash-core-components-2.0.0 dash-html-components-2.0.0 dash-table-5.0.0 jedi-0.18.2 jupyter_dash-0.4.2 retrying-1.3.4\n"
          ]
        }
      ]
    },
    {
      "cell_type": "code",
      "source": [
        "!pip install dash_mantine_components"
      ],
      "metadata": {
        "colab": {
          "base_uri": "https://localhost:8080/"
        },
        "id": "ZmSZJeJH_0ei",
        "outputId": "611400da-2773-440a-c602-a608e1ee83dd"
      },
      "execution_count": null,
      "outputs": [
        {
          "output_type": "stream",
          "name": "stdout",
          "text": [
            "Looking in indexes: https://pypi.org/simple, https://us-python.pkg.dev/colab-wheels/public/simple/\n",
            "Collecting dash_mantine_components\n",
            "  Downloading dash_mantine_components-0.12.0-py3-none-any.whl (496 kB)\n",
            "\u001b[2K     \u001b[90m━━━━━━━━━━━━━━━━━━━━━━━━━━━━━━━━━━━━━━━\u001b[0m \u001b[32m496.9/496.9 KB\u001b[0m \u001b[31m9.3 MB/s\u001b[0m eta \u001b[36m0:00:00\u001b[0m\n",
            "\u001b[?25hInstalling collected packages: dash_mantine_components\n",
            "Successfully installed dash_mantine_components-0.12.0\n"
          ]
        }
      ]
    },
    {
      "cell_type": "markdown",
      "source": [
        "## Intro to Plotly Graphing Library [plotly](https://plotly.com/graphing-libraries/)"
      ],
      "metadata": {
        "id": "pgmvM3SpCudt"
      }
    },
    {
      "cell_type": "code",
      "source": [
        "import plotly.express as px\n",
        "from skimage import io\n",
        "img = io.imread('https://upload.wikimedia.org/wikipedia/commons/thumb/0/00/Crab_Nebula.jpg/240px-Crab_Nebula.jpg')\n",
        "fig = px.imshow(img)\n",
        "fig.show()"
      ],
      "metadata": {
        "colab": {
          "base_uri": "https://localhost:8080/",
          "height": 542
        },
        "id": "QpjcTZkdCtJU",
        "outputId": "c8eeeaf3-c190-429f-83af-bcae9107dc37"
      },
      "execution_count": null,
      "outputs": [
        {
          "output_type": "display_data",
          "data": {
            "text/html": [
              "<html>\n",
              "<head><meta charset=\"utf-8\" /></head>\n",
              "<body>\n",
              "    <div>            <script src=\"https://cdnjs.cloudflare.com/ajax/libs/mathjax/2.7.5/MathJax.js?config=TeX-AMS-MML_SVG\"></script><script type=\"text/javascript\">if (window.MathJax && window.MathJax.Hub && window.MathJax.Hub.Config) {window.MathJax.Hub.Config({SVG: {font: \"STIX-Web\"}});}</script>                <script type=\"text/javascript\">window.PlotlyConfig = {MathJaxConfig: 'local'};</script>\n",
              "        <script src=\"https://cdn.plot.ly/plotly-2.18.2.min.js\"></script>                <div id=\"2abd9aa1-bbbf-49a6-bb7f-dede2b025d02\" class=\"plotly-graph-div\" style=\"height:525px; width:100%;\"></div>            <script type=\"text/javascript\">                                    window.PLOTLYENV=window.PLOTLYENV || {};                                    if (document.getElementById(\"2abd9aa1-bbbf-49a6-bb7f-dede2b025d02\")) {                    Plotly.newPlot(                        \"2abd9aa1-bbbf-49a6-bb7f-dede2b025d02\",                        [{\"name\":\"0\",\"source\":\"data:image/png;base64,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\",\"type\":\"image\",\"xaxis\":\"x\",\"yaxis\":\"y\",\"hovertemplate\":\"x: %{x}<br>y: %{y}<br>color: [%{z[0]}, %{z[1]}, %{z[2]}]<extra></extra>\"}],                        {\"template\":{\"data\":{\"histogram2dcontour\":[{\"type\":\"histogram2dcontour\",\"colorbar\":{\"outlinewidth\":0,\"ticks\":\"\"},\"colorscale\":[[0.0,\"#0d0887\"],[0.1111111111111111,\"#46039f\"],[0.2222222222222222,\"#7201a8\"],[0.3333333333333333,\"#9c179e\"],[0.4444444444444444,\"#bd3786\"],[0.5555555555555556,\"#d8576b\"],[0.6666666666666666,\"#ed7953\"],[0.7777777777777778,\"#fb9f3a\"],[0.8888888888888888,\"#fdca26\"],[1.0,\"#f0f921\"]]}],\"choropleth\":[{\"type\":\"choropleth\",\"colorbar\":{\"outlinewidth\":0,\"ticks\":\"\"}}],\"histogram2d\":[{\"type\":\"histogram2d\",\"colorbar\":{\"outlinewidth\":0,\"ticks\":\"\"},\"colorscale\":[[0.0,\"#0d0887\"],[0.1111111111111111,\"#46039f\"],[0.2222222222222222,\"#7201a8\"],[0.3333333333333333,\"#9c179e\"],[0.4444444444444444,\"#bd3786\"],[0.5555555555555556,\"#d8576b\"],[0.6666666666666666,\"#ed7953\"],[0.7777777777777778,\"#fb9f3a\"],[0.8888888888888888,\"#fdca26\"],[1.0,\"#f0f921\"]]}],\"heatmap\":[{\"type\":\"heatmap\",\"colorbar\":{\"outlinewidth\":0,\"ticks\":\"\"},\"colorscale\":[[0.0,\"#0d0887\"],[0.1111111111111111,\"#46039f\"],[0.2222222222222222,\"#7201a8\"],[0.3333333333333333,\"#9c179e\"],[0.4444444444444444,\"#bd3786\"],[0.5555555555555556,\"#d8576b\"],[0.6666666666666666,\"#ed7953\"],[0.7777777777777778,\"#fb9f3a\"],[0.8888888888888888,\"#fdca26\"],[1.0,\"#f0f921\"]]}],\"heatmapgl\":[{\"type\":\"heatmapgl\",\"colorbar\":{\"outlinewidth\":0,\"ticks\":\"\"},\"colorscale\":[[0.0,\"#0d0887\"],[0.1111111111111111,\"#46039f\"],[0.2222222222222222,\"#7201a8\"],[0.3333333333333333,\"#9c179e\"],[0.4444444444444444,\"#bd3786\"],[0.5555555555555556,\"#d8576b\"],[0.6666666666666666,\"#ed7953\"],[0.7777777777777778,\"#fb9f3a\"],[0.8888888888888888,\"#fdca26\"],[1.0,\"#f0f921\"]]}],\"contourcarpet\":[{\"type\":\"contourcarpet\",\"colorbar\":{\"outlinewidth\":0,\"ticks\":\"\"}}],\"contour\":[{\"type\":\"contour\",\"colorbar\":{\"outlinewidth\":0,\"ticks\":\"\"},\"colorscale\":[[0.0,\"#0d0887\"],[0.1111111111111111,\"#46039f\"],[0.2222222222222222,\"#7201a8\"],[0.3333333333333333,\"#9c179e\"],[0.4444444444444444,\"#bd3786\"],[0.5555555555555556,\"#d8576b\"],[0.6666666666666666,\"#ed7953\"],[0.7777777777777778,\"#fb9f3a\"],[0.8888888888888888,\"#fdca26\"],[1.0,\"#f0f921\"]]}],\"surface\":[{\"type\":\"surface\",\"colorbar\":{\"outlinewidth\":0,\"ticks\":\"\"},\"colorscale\":[[0.0,\"#0d0887\"],[0.1111111111111111,\"#46039f\"],[0.2222222222222222,\"#7201a8\"],[0.3333333333333333,\"#9c179e\"],[0.4444444444444444,\"#bd3786\"],[0.5555555555555556,\"#d8576b\"],[0.6666666666666666,\"#ed7953\"],[0.7777777777777778,\"#fb9f3a\"],[0.8888888888888888,\"#fdca26\"],[1.0,\"#f0f921\"]]}],\"mesh3d\":[{\"type\":\"mesh3d\",\"colorbar\":{\"outlinewidth\":0,\"ticks\":\"\"}}],\"scatter\":[{\"fillpattern\":{\"fillmode\":\"overlay\",\"size\":10,\"solidity\":0.2},\"type\":\"scatter\"}],\"parcoords\":[{\"type\":\"parcoords\",\"line\":{\"colorbar\":{\"outlinewidth\":0,\"ticks\":\"\"}}}],\"scatterpolargl\":[{\"type\":\"scatterpolargl\",\"marker\":{\"colorbar\":{\"outlinewidth\":0,\"ticks\":\"\"}}}],\"bar\":[{\"error_x\":{\"color\":\"#2a3f5f\"},\"error_y\":{\"color\":\"#2a3f5f\"},\"marker\":{\"line\":{\"color\":\"#E5ECF6\",\"width\":0.5},\"pattern\":{\"fillmode\":\"overlay\",\"size\":10,\"solidity\":0.2}},\"type\":\"bar\"}],\"scattergeo\":[{\"type\":\"scattergeo\",\"marker\":{\"colorbar\":{\"outlinewidth\":0,\"ticks\":\"\"}}}],\"scatterpolar\":[{\"type\":\"scatterpolar\",\"marker\":{\"colorbar\":{\"outlinewidth\":0,\"ticks\":\"\"}}}],\"histogram\":[{\"marker\":{\"pattern\":{\"fillmode\":\"overlay\",\"size\":10,\"solidity\":0.2}},\"type\":\"histogram\"}],\"scattergl\":[{\"type\":\"scattergl\",\"marker\":{\"colorbar\":{\"outlinewidth\":0,\"ticks\":\"\"}}}],\"scatter3d\":[{\"type\":\"scatter3d\",\"line\":{\"colorbar\":{\"outlinewidth\":0,\"ticks\":\"\"}},\"marker\":{\"colorbar\":{\"outlinewidth\":0,\"ticks\":\"\"}}}],\"scattermapbox\":[{\"type\":\"scattermapbox\",\"marker\":{\"colorbar\":{\"outlinewidth\":0,\"ticks\":\"\"}}}],\"scatterternary\":[{\"type\":\"scatterternary\",\"marker\":{\"colorbar\":{\"outlinewidth\":0,\"ticks\":\"\"}}}],\"scattercarpet\":[{\"type\":\"scattercarpet\",\"marker\":{\"colorbar\":{\"outlinewidth\":0,\"ticks\":\"\"}}}],\"carpet\":[{\"aaxis\":{\"endlinecolor\":\"#2a3f5f\",\"gridcolor\":\"white\",\"linecolor\":\"white\",\"minorgridcolor\":\"white\",\"startlinecolor\":\"#2a3f5f\"},\"baxis\":{\"endlinecolor\":\"#2a3f5f\",\"gridcolor\":\"white\",\"linecolor\":\"white\",\"minorgridcolor\":\"white\",\"startlinecolor\":\"#2a3f5f\"},\"type\":\"carpet\"}],\"table\":[{\"cells\":{\"fill\":{\"color\":\"#EBF0F8\"},\"line\":{\"color\":\"white\"}},\"header\":{\"fill\":{\"color\":\"#C8D4E3\"},\"line\":{\"color\":\"white\"}},\"type\":\"table\"}],\"barpolar\":[{\"marker\":{\"line\":{\"color\":\"#E5ECF6\",\"width\":0.5},\"pattern\":{\"fillmode\":\"overlay\",\"size\":10,\"solidity\":0.2}},\"type\":\"barpolar\"}],\"pie\":[{\"automargin\":true,\"type\":\"pie\"}]},\"layout\":{\"autotypenumbers\":\"strict\",\"colorway\":[\"#636efa\",\"#EF553B\",\"#00cc96\",\"#ab63fa\",\"#FFA15A\",\"#19d3f3\",\"#FF6692\",\"#B6E880\",\"#FF97FF\",\"#FECB52\"],\"font\":{\"color\":\"#2a3f5f\"},\"hovermode\":\"closest\",\"hoverlabel\":{\"align\":\"left\"},\"paper_bgcolor\":\"white\",\"plot_bgcolor\":\"#E5ECF6\",\"polar\":{\"bgcolor\":\"#E5ECF6\",\"angularaxis\":{\"gridcolor\":\"white\",\"linecolor\":\"white\",\"ticks\":\"\"},\"radialaxis\":{\"gridcolor\":\"white\",\"linecolor\":\"white\",\"ticks\":\"\"}},\"ternary\":{\"bgcolor\":\"#E5ECF6\",\"aaxis\":{\"gridcolor\":\"white\",\"linecolor\":\"white\",\"ticks\":\"\"},\"baxis\":{\"gridcolor\":\"white\",\"linecolor\":\"white\",\"ticks\":\"\"},\"caxis\":{\"gridcolor\":\"white\",\"linecolor\":\"white\",\"ticks\":\"\"}},\"coloraxis\":{\"colorbar\":{\"outlinewidth\":0,\"ticks\":\"\"}},\"colorscale\":{\"sequential\":[[0.0,\"#0d0887\"],[0.1111111111111111,\"#46039f\"],[0.2222222222222222,\"#7201a8\"],[0.3333333333333333,\"#9c179e\"],[0.4444444444444444,\"#bd3786\"],[0.5555555555555556,\"#d8576b\"],[0.6666666666666666,\"#ed7953\"],[0.7777777777777778,\"#fb9f3a\"],[0.8888888888888888,\"#fdca26\"],[1.0,\"#f0f921\"]],\"sequentialminus\":[[0.0,\"#0d0887\"],[0.1111111111111111,\"#46039f\"],[0.2222222222222222,\"#7201a8\"],[0.3333333333333333,\"#9c179e\"],[0.4444444444444444,\"#bd3786\"],[0.5555555555555556,\"#d8576b\"],[0.6666666666666666,\"#ed7953\"],[0.7777777777777778,\"#fb9f3a\"],[0.8888888888888888,\"#fdca26\"],[1.0,\"#f0f921\"]],\"diverging\":[[0,\"#8e0152\"],[0.1,\"#c51b7d\"],[0.2,\"#de77ae\"],[0.3,\"#f1b6da\"],[0.4,\"#fde0ef\"],[0.5,\"#f7f7f7\"],[0.6,\"#e6f5d0\"],[0.7,\"#b8e186\"],[0.8,\"#7fbc41\"],[0.9,\"#4d9221\"],[1,\"#276419\"]]},\"xaxis\":{\"gridcolor\":\"white\",\"linecolor\":\"white\",\"ticks\":\"\",\"title\":{\"standoff\":15},\"zerolinecolor\":\"white\",\"automargin\":true,\"zerolinewidth\":2},\"yaxis\":{\"gridcolor\":\"white\",\"linecolor\":\"white\",\"ticks\":\"\",\"title\":{\"standoff\":15},\"zerolinecolor\":\"white\",\"automargin\":true,\"zerolinewidth\":2},\"scene\":{\"xaxis\":{\"backgroundcolor\":\"#E5ECF6\",\"gridcolor\":\"white\",\"linecolor\":\"white\",\"showbackground\":true,\"ticks\":\"\",\"zerolinecolor\":\"white\",\"gridwidth\":2},\"yaxis\":{\"backgroundcolor\":\"#E5ECF6\",\"gridcolor\":\"white\",\"linecolor\":\"white\",\"showbackground\":true,\"ticks\":\"\",\"zerolinecolor\":\"white\",\"gridwidth\":2},\"zaxis\":{\"backgroundcolor\":\"#E5ECF6\",\"gridcolor\":\"white\",\"linecolor\":\"white\",\"showbackground\":true,\"ticks\":\"\",\"zerolinecolor\":\"white\",\"gridwidth\":2}},\"shapedefaults\":{\"line\":{\"color\":\"#2a3f5f\"}},\"annotationdefaults\":{\"arrowcolor\":\"#2a3f5f\",\"arrowhead\":0,\"arrowwidth\":1},\"geo\":{\"bgcolor\":\"white\",\"landcolor\":\"#E5ECF6\",\"subunitcolor\":\"white\",\"showland\":true,\"showlakes\":true,\"lakecolor\":\"white\"},\"title\":{\"x\":0.05},\"mapbox\":{\"style\":\"light\"}}},\"xaxis\":{\"anchor\":\"y\",\"domain\":[0.0,1.0]},\"yaxis\":{\"anchor\":\"x\",\"domain\":[0.0,1.0]},\"margin\":{\"t\":60}},                        {\"responsive\": true}                    ).then(function(){\n",
              "                            \n",
              "var gd = document.getElementById('2abd9aa1-bbbf-49a6-bb7f-dede2b025d02');\n",
              "var x = new MutationObserver(function (mutations, observer) {{\n",
              "        var display = window.getComputedStyle(gd).display;\n",
              "        if (!display || display === 'none') {{\n",
              "            console.log([gd, 'removed!']);\n",
              "            Plotly.purge(gd);\n",
              "            observer.disconnect();\n",
              "        }}\n",
              "}});\n",
              "\n",
              "// Listen for the removal of the full notebook cells\n",
              "var notebookContainer = gd.closest('#notebook-container');\n",
              "if (notebookContainer) {{\n",
              "    x.observe(notebookContainer, {childList: true});\n",
              "}}\n",
              "\n",
              "// Listen for the clearing of the current output cell\n",
              "var outputEl = gd.closest('.output');\n",
              "if (outputEl) {{\n",
              "    x.observe(outputEl, {childList: true});\n",
              "}}\n",
              "\n",
              "                        })                };                            </script>        </div>\n",
              "</body>\n",
              "</html>"
            ]
          },
          "metadata": {}
        }
      ]
    },
    {
      "cell_type": "markdown",
      "source": [
        "## Dash App development Basics"
      ],
      "metadata": {
        "id": "MT9kt3HZDHs1"
      }
    },
    {
      "cell_type": "markdown",
      "metadata": {
        "id": "Bjk0R2yN_c76"
      },
      "source": [
        "#### Imports"
      ]
    },
    {
      "cell_type": "code",
      "execution_count": null,
      "metadata": {
        "id": "wWD8B3bs_c76"
      },
      "outputs": [],
      "source": [
        "# Dash\n",
        "import dash\n",
        "from dash import Input, Output, State, dcc, html, callback\n",
        "from jupyter_dash import JupyterDash\n",
        "import dash_mantine_components as dmc\n",
        "from dash.exceptions import PreventUpdate\n",
        "\n",
        "# Scientific and data analysis libraries\n",
        "import pandas as pd\n",
        "import numpy as np\n",
        "import xarray as xr\n",
        "import scipy\n",
        "from scipy.interpolate import RectBivariateSpline as RBVS\n",
        "\n",
        "# Plotting\n",
        "import plotly.express as px\n",
        "import plotly.graph_objects as go"
      ]
    },
    {
      "cell_type": "markdown",
      "metadata": {
        "id": "UPDn1oYz_c77"
      },
      "source": [
        "### Dash app definition"
      ]
    },
    {
      "cell_type": "code",
      "execution_count": null,
      "metadata": {
        "id": "Yk4NUsrW_c77"
      },
      "outputs": [],
      "source": [
        "# app = dash.Dash(\n",
        "#         name = __name__,\n",
        "#         suppress_callback_exceptions=True,\n",
        "#     )"
      ]
    },
    {
      "cell_type": "code",
      "execution_count": null,
      "metadata": {
        "id": "RRI4-NJ__c77"
      },
      "outputs": [],
      "source": [
        "app = JupyterDash(\n",
        "        name = __name__,\n",
        "        suppress_callback_exceptions=True,\n",
        "    )"
      ]
    },
    {
      "cell_type": "markdown",
      "metadata": {
        "id": "yUCSqG64_c77"
      },
      "source": [
        "### Dash Building Block 1 - Layout\n",
        "\n",
        "- Describes the look and feel of the app. Composed of a tree of components.\n",
        "- Defines elements of the page, and their colour, size, position, orientation etc.\n",
        "- Dash includes HTML components like Headings, text, images, etc. However, not all components are HTML.\n",
        "- Other interactive elements like graphs, dropdowns, radio buttons, sliders, etc., can be defined through *dash_core_components (dcc)* and *dash_mantine_components (dmc)*."
      ]
    },
    {
      "cell_type": "code",
      "execution_count": null,
      "metadata": {
        "id": "JtHWJ_Kd_c78"
      },
      "outputs": [],
      "source": [
        "app.layout = html.Div([     \n",
        "        dmc.Title(children=\"Hello World!\", id = 'title-text'),\n",
        "        dmc.Space(h=20),\n",
        "        dmc.Button(\"Button\", id = 'print-button'),\n",
        "        dmc.Space(h=20),\n",
        "        dmc.Select(label = \"Select Data\", id = 'data-select', value='', data=[\"alpha\", \"beta\"]),\n",
        "        dcc.Graph(id='graph')         \n",
        "    ])"
      ]
    },
    {
      "cell_type": "code",
      "execution_count": null,
      "metadata": {
        "colab": {
          "base_uri": "https://localhost:8080/",
          "height": 741
        },
        "id": "zsvYZf5x_c78",
        "outputId": "41df5e7b-224f-4927-f689-3a43d71e5b7b"
      },
      "outputs": [
        {
          "output_type": "stream",
          "name": "stdout",
          "text": [
            "Dash is running on http://127.0.0.1:8050/\n",
            "\n"
          ]
        },
        {
          "output_type": "stream",
          "name": "stderr",
          "text": [
            "INFO:dash.dash:Dash is running on http://127.0.0.1:8050/\n",
            "\n"
          ]
        },
        {
          "output_type": "display_data",
          "data": {
            "text/plain": [
              "<IPython.core.display.Javascript object>"
            ],
            "application/javascript": [
              "(async (port, path, width, height, cache, element) => {\n",
              "    if (!google.colab.kernel.accessAllowed && !cache) {\n",
              "      return;\n",
              "    }\n",
              "    element.appendChild(document.createTextNode(''));\n",
              "    const url = await google.colab.kernel.proxyPort(port, {cache});\n",
              "    const iframe = document.createElement('iframe');\n",
              "    iframe.src = new URL(path, url).toString();\n",
              "    iframe.height = height;\n",
              "    iframe.width = width;\n",
              "    iframe.style.border = 0;\n",
              "    iframe.allow = [\n",
              "        'accelerometer',\n",
              "        'autoplay',\n",
              "        'camera',\n",
              "        'clipboard-read',\n",
              "        'clipboard-write',\n",
              "        'gyroscope',\n",
              "        'magnetometer',\n",
              "        'microphone',\n",
              "        'serial',\n",
              "        'usb',\n",
              "        'xr-spatial-tracking',\n",
              "    ].join('; ');\n",
              "    element.appendChild(iframe);\n",
              "  })(8050, \"/\", \"100%\", 650, false, window.element)"
            ]
          },
          "metadata": {}
        }
      ],
      "source": [
        "if __name__ == \"__main__\":\n",
        "    app.run_server(debug=True,mode='inline')"
      ]
    },
    {
      "cell_type": "markdown",
      "metadata": {
        "id": "lFUXynyj_c78"
      },
      "source": [
        "Key properties within each component:\n",
        "- **id** (string): Allows callbacks to identify the component. IDs should be unique for each component.\n",
        "- **children**: Can be a string, number, another component, or a list of components.\n",
        "- **value**: Current value of the element.\n",
        "- **data / options**: Possible values that the component can take.\n",
        "Each component type can have their own specific properties. See individual help pages when using them.\n",
        "\n",
        "---------------------------------------"
      ]
    },
    {
      "cell_type": "markdown",
      "metadata": {
        "id": "0nhjSBcs_c78"
      },
      "source": [
        "### Dash Building Block 2 - Callbacks\n",
        "\n",
        "Callbacks are what provide interactivity within a dash app.\n",
        "When the user selects or modifies the data selection, the relevant callback activates an appropriate response.\n",
        "\n",
        "- Basic structure of callbacks\n",
        "    - Input: Components which will trigger the callback function.\n",
        "    - Output: Components which will be updated by the callback function.\n",
        "    - State: Components whose specific property will be accessible to the callback function, but which will not trigger the callback.\n",
        "- Each of the components above is defined by:\n",
        "    - “id” of the component to input / output\n",
        "    - “property” of the component to input / output\n",
        "- Callback function: The logic to be used to update the components specified in the “Outputs” of the callback. \n",
        "\n",
        "Things to note:\n",
        "- Each callback input should be mentioned as an argument of the callback function.\n"
      ]
    },
    {
      "cell_type": "code",
      "source": [
        "# Dash\n",
        "import dash\n",
        "from dash import Input, Output, State, dcc, html, callback\n",
        "from jupyter_dash import JupyterDash\n",
        "import dash_mantine_components as dmc\n",
        "from dash.exceptions import PreventUpdate\n",
        "\n",
        "# Scientific and data analysis libraries\n",
        "import pandas as pd\n",
        "import numpy as np\n",
        "import xarray as xr\n",
        "import scipy\n",
        "from scipy.interpolate import RectBivariateSpline as RBVS\n",
        "\n",
        "# Plotting\n",
        "import plotly.express as px\n",
        "import plotly.graph_objects as go"
      ],
      "metadata": {
        "id": "1JQaiiQrLRHk"
      },
      "execution_count": null,
      "outputs": []
    },
    {
      "cell_type": "code",
      "source": [
        "app = JupyterDash(\n",
        "        name = __name__,\n",
        "        suppress_callback_exceptions=True,\n",
        "    )"
      ],
      "metadata": {
        "id": "VK59u5X3GfHl"
      },
      "execution_count": null,
      "outputs": []
    },
    {
      "cell_type": "code",
      "source": [
        "app.layout = html.Div([     \n",
        "        dmc.Title(children=\"Hello World!\", id = 'title-text'),\n",
        "        dmc.Space(h=20),\n",
        "        dmc.Button(\"Button\", id = 'print-button'),\n",
        "        dmc.Space(h=20),\n",
        "        dmc.Select(label = \"Select Data\", id = 'data-select', value='', data=[\"alpha\", \"beta\"]),\n",
        "        dmc.Title(id='some_text')       \n",
        "    ])"
      ],
      "metadata": {
        "id": "rWG7jaadG0Tp"
      },
      "execution_count": null,
      "outputs": []
    },
    {
      "cell_type": "code",
      "source": [
        "@callback(\n",
        "    output = dict(\n",
        "        some_text = Output('some_text', 'children')\n",
        "    ),\n",
        "    inputs = dict(\n",
        "        selected_value = Input('data-select', 'value')\n",
        "    )\n",
        ")\n",
        "def handle_callback(selected_value):\n",
        "    return dict(some_text = selected_value)"
      ],
      "metadata": {
        "id": "rVrcQheFG2_Y"
      },
      "execution_count": null,
      "outputs": []
    },
    {
      "cell_type": "code",
      "source": [
        "if __name__ == \"__main__\":\n",
        "    app.run_server(debug=True,mode='inline')"
      ],
      "metadata": {
        "colab": {
          "base_uri": "https://localhost:8080/",
          "height": 741
        },
        "id": "aMJVqKw7IsvS",
        "outputId": "216cf124-fee0-4502-f936-2f122e30644a"
      },
      "execution_count": null,
      "outputs": [
        {
          "output_type": "stream",
          "name": "stdout",
          "text": [
            "Dash is running on http://127.0.0.1:8050/\n",
            "\n"
          ]
        },
        {
          "output_type": "stream",
          "name": "stderr",
          "text": [
            "INFO:dash.dash:Dash is running on http://127.0.0.1:8050/\n",
            "\n"
          ]
        },
        {
          "output_type": "display_data",
          "data": {
            "text/plain": [
              "<IPython.core.display.Javascript object>"
            ],
            "application/javascript": [
              "(async (port, path, width, height, cache, element) => {\n",
              "    if (!google.colab.kernel.accessAllowed && !cache) {\n",
              "      return;\n",
              "    }\n",
              "    element.appendChild(document.createTextNode(''));\n",
              "    const url = await google.colab.kernel.proxyPort(port, {cache});\n",
              "    const iframe = document.createElement('iframe');\n",
              "    iframe.src = new URL(path, url).toString();\n",
              "    iframe.height = height;\n",
              "    iframe.width = width;\n",
              "    iframe.style.border = 0;\n",
              "    iframe.allow = [\n",
              "        'accelerometer',\n",
              "        'autoplay',\n",
              "        'camera',\n",
              "        'clipboard-read',\n",
              "        'clipboard-write',\n",
              "        'gyroscope',\n",
              "        'magnetometer',\n",
              "        'microphone',\n",
              "        'serial',\n",
              "        'usb',\n",
              "        'xr-spatial-tracking',\n",
              "    ].join('; ');\n",
              "    element.appendChild(iframe);\n",
              "  })(8050, \"/\", \"100%\", 650, false, window.element)"
            ]
          },
          "metadata": {}
        }
      ]
    },
    {
      "cell_type": "code",
      "source": [
        "# Dash\n",
        "import dash\n",
        "from dash import Input, Output, State, dcc, html, callback\n",
        "from jupyter_dash import JupyterDash\n",
        "import dash_mantine_components as dmc\n",
        "from dash.exceptions import PreventUpdate\n",
        "\n",
        "# Scientific and data analysis libraries\n",
        "import pandas as pd\n",
        "import numpy as np\n",
        "import xarray as xr\n",
        "import scipy\n",
        "from scipy.interpolate import RectBivariateSpline as RBVS\n",
        "\n",
        "# Plotting\n",
        "import plotly.express as px\n",
        "import plotly.graph_objects as go"
      ],
      "metadata": {
        "id": "Ktqo2kOiLS7U"
      },
      "execution_count": null,
      "outputs": []
    },
    {
      "cell_type": "code",
      "source": [
        "app = JupyterDash(\n",
        "        name = __name__,\n",
        "        suppress_callback_exceptions=True,\n",
        "    )"
      ],
      "metadata": {
        "id": "e2PTWFikKudj"
      },
      "execution_count": null,
      "outputs": []
    },
    {
      "cell_type": "code",
      "source": [
        "\n",
        "df = pd.read_csv('https://raw.githubusercontent.com/plotly/datasets/master/gapminderDataFiveYear.csv')\n",
        "\n",
        "app.layout = html.Div([\n",
        "    dcc.Graph(id='graph-with-slider'),\n",
        "    dcc.Slider(\n",
        "        df['year'].min(),\n",
        "        df['year'].max(),\n",
        "        step=None,\n",
        "        value=df['year'].min(),\n",
        "        marks={str(year): str(year) for year in df['year'].unique()},\n",
        "        id='year-slider'\n",
        "    )\n",
        "])\n",
        "\n",
        "@app.callback(\n",
        "    Output('graph-with-slider', 'figure'),\n",
        "    Input('year-slider', 'value'))\n",
        "def update_figure(selected_year):\n",
        "    filtered_df = df[df.year == selected_year]\n",
        "\n",
        "    fig = px.scatter(filtered_df, x=\"gdpPercap\", y=\"lifeExp\",\n",
        "                     size=\"pop\", color=\"continent\", hover_name=\"country\",\n",
        "                     log_x=True, size_max=55)\n",
        "\n",
        "    fig.update_layout(transition_duration=500)\n",
        "\n",
        "    return fig\n",
        "\n",
        "   "
      ],
      "metadata": {
        "id": "kZRCihgjKxAk"
      },
      "execution_count": null,
      "outputs": []
    },
    {
      "cell_type": "code",
      "source": [
        "if __name__ == \"__main__\":\n",
        "    app.run_server(debug=True,mode='inline')"
      ],
      "metadata": {
        "colab": {
          "base_uri": "https://localhost:8080/",
          "height": 741
        },
        "id": "DfR0tnR4LHha",
        "outputId": "00df6f8e-b9c2-46b8-b795-cd36e64ec2e9"
      },
      "execution_count": null,
      "outputs": [
        {
          "output_type": "stream",
          "name": "stdout",
          "text": [
            "Dash is running on http://127.0.0.1:8050/\n",
            "\n"
          ]
        },
        {
          "output_type": "stream",
          "name": "stderr",
          "text": [
            "INFO:dash.dash:Dash is running on http://127.0.0.1:8050/\n",
            "\n"
          ]
        },
        {
          "output_type": "display_data",
          "data": {
            "text/plain": [
              "<IPython.core.display.Javascript object>"
            ],
            "application/javascript": [
              "(async (port, path, width, height, cache, element) => {\n",
              "    if (!google.colab.kernel.accessAllowed && !cache) {\n",
              "      return;\n",
              "    }\n",
              "    element.appendChild(document.createTextNode(''));\n",
              "    const url = await google.colab.kernel.proxyPort(port, {cache});\n",
              "    const iframe = document.createElement('iframe');\n",
              "    iframe.src = new URL(path, url).toString();\n",
              "    iframe.height = height;\n",
              "    iframe.width = width;\n",
              "    iframe.style.border = 0;\n",
              "    iframe.allow = [\n",
              "        'accelerometer',\n",
              "        'autoplay',\n",
              "        'camera',\n",
              "        'clipboard-read',\n",
              "        'clipboard-write',\n",
              "        'gyroscope',\n",
              "        'magnetometer',\n",
              "        'microphone',\n",
              "        'serial',\n",
              "        'usb',\n",
              "        'xr-spatial-tracking',\n",
              "    ].join('; ');\n",
              "    element.appendChild(iframe);\n",
              "  })(8050, \"/\", \"100%\", 650, false, window.element)"
            ]
          },
          "metadata": {}
        }
      ]
    },
    {
      "cell_type": "markdown",
      "source": [
        "### Dash Building Block 3 - Interactive Graphing"
      ],
      "metadata": {
        "id": "rDbQHr9uJYPC"
      }
    },
    {
      "cell_type": "code",
      "source": [
        "# Dash\n",
        "import dash\n",
        "from dash import Input, Output, State, dcc, html, callback\n",
        "from jupyter_dash import JupyterDash\n",
        "import dash_mantine_components as dmc\n",
        "from dash.exceptions import PreventUpdate\n",
        "\n",
        "# Scientific and data analysis libraries\n",
        "import pandas as pd\n",
        "import numpy as np\n",
        "import xarray as xr\n",
        "import scipy\n",
        "from scipy.interpolate import RectBivariateSpline as RBVS\n",
        "\n",
        "# Plotting\n",
        "import plotly.express as px\n",
        "import plotly.graph_objects as go\n",
        "\n",
        "import json"
      ],
      "metadata": {
        "id": "w_OcatNyI5hJ"
      },
      "execution_count": null,
      "outputs": []
    },
    {
      "cell_type": "code",
      "source": [
        "app = JupyterDash(\n",
        "        name = __name__,\n",
        "        suppress_callback_exceptions=True,\n",
        "    )"
      ],
      "metadata": {
        "id": "7nz07Bn2Lyup"
      },
      "execution_count": null,
      "outputs": []
    },
    {
      "cell_type": "code",
      "source": [
        "external_stylesheets = ['https://codepen.io/chriddyp/pen/bWLwgP.css']\n",
        "\n",
        "styles = {\n",
        "    'pre': {\n",
        "        'border': 'thin lightgrey solid',\n",
        "        'overflowX': 'scroll'\n",
        "    }\n",
        "}\n",
        "\n",
        "df = pd.DataFrame({\n",
        "    \"x\": [1,2,1,2],\n",
        "    \"y\": [1,2,3,4],\n",
        "    \"customdata\": [1,2,3,4],\n",
        "    \"fruit\": [\"apple\", \"apple\", \"orange\", \"orange\"]\n",
        "})\n",
        "\n",
        "fig = px.scatter(df, x=\"x\", y=\"y\", color=\"fruit\", custom_data=[\"customdata\"])\n",
        "\n",
        "fig.update_layout(clickmode='event+select')\n",
        "\n",
        "fig.update_traces(marker_size=20)"
      ],
      "metadata": {
        "colab": {
          "base_uri": "https://localhost:8080/",
          "height": 542
        },
        "id": "95ZdUMOlL1SG",
        "outputId": "faed2f2b-3fc2-48da-da3f-e9975b067297"
      },
      "execution_count": null,
      "outputs": [
        {
          "output_type": "display_data",
          "data": {
            "text/html": [
              "<html>\n",
              "<head><meta charset=\"utf-8\" /></head>\n",
              "<body>\n",
              "    <div>            <script src=\"https://cdnjs.cloudflare.com/ajax/libs/mathjax/2.7.5/MathJax.js?config=TeX-AMS-MML_SVG\"></script><script type=\"text/javascript\">if (window.MathJax && window.MathJax.Hub && window.MathJax.Hub.Config) {window.MathJax.Hub.Config({SVG: {font: \"STIX-Web\"}});}</script>                <script type=\"text/javascript\">window.PlotlyConfig = {MathJaxConfig: 'local'};</script>\n",
              "        <script src=\"https://cdn.plot.ly/plotly-2.18.2.min.js\"></script>                <div id=\"c24a14bc-fd2b-4dd8-a073-d572039043aa\" class=\"plotly-graph-div\" style=\"height:525px; width:100%;\"></div>            <script type=\"text/javascript\">                                    window.PLOTLYENV=window.PLOTLYENV || {};                                    if (document.getElementById(\"c24a14bc-fd2b-4dd8-a073-d572039043aa\")) {                    Plotly.newPlot(                        \"c24a14bc-fd2b-4dd8-a073-d572039043aa\",                        [{\"customdata\":[[1],[2]],\"hovertemplate\":\"fruit=apple<br>x=%{x}<br>y=%{y}<extra></extra>\",\"legendgroup\":\"apple\",\"marker\":{\"color\":\"#636efa\",\"symbol\":\"circle\",\"size\":20},\"mode\":\"markers\",\"name\":\"apple\",\"orientation\":\"v\",\"showlegend\":true,\"x\":[1,2],\"xaxis\":\"x\",\"y\":[1,2],\"yaxis\":\"y\",\"type\":\"scatter\"},{\"customdata\":[[3],[4]],\"hovertemplate\":\"fruit=orange<br>x=%{x}<br>y=%{y}<extra></extra>\",\"legendgroup\":\"orange\",\"marker\":{\"color\":\"#EF553B\",\"symbol\":\"circle\",\"size\":20},\"mode\":\"markers\",\"name\":\"orange\",\"orientation\":\"v\",\"showlegend\":true,\"x\":[1,2],\"xaxis\":\"x\",\"y\":[3,4],\"yaxis\":\"y\",\"type\":\"scatter\"}],                        {\"template\":{\"data\":{\"histogram2dcontour\":[{\"type\":\"histogram2dcontour\",\"colorbar\":{\"outlinewidth\":0,\"ticks\":\"\"},\"colorscale\":[[0.0,\"#0d0887\"],[0.1111111111111111,\"#46039f\"],[0.2222222222222222,\"#7201a8\"],[0.3333333333333333,\"#9c179e\"],[0.4444444444444444,\"#bd3786\"],[0.5555555555555556,\"#d8576b\"],[0.6666666666666666,\"#ed7953\"],[0.7777777777777778,\"#fb9f3a\"],[0.8888888888888888,\"#fdca26\"],[1.0,\"#f0f921\"]]}],\"choropleth\":[{\"type\":\"choropleth\",\"colorbar\":{\"outlinewidth\":0,\"ticks\":\"\"}}],\"histogram2d\":[{\"type\":\"histogram2d\",\"colorbar\":{\"outlinewidth\":0,\"ticks\":\"\"},\"colorscale\":[[0.0,\"#0d0887\"],[0.1111111111111111,\"#46039f\"],[0.2222222222222222,\"#7201a8\"],[0.3333333333333333,\"#9c179e\"],[0.4444444444444444,\"#bd3786\"],[0.5555555555555556,\"#d8576b\"],[0.6666666666666666,\"#ed7953\"],[0.7777777777777778,\"#fb9f3a\"],[0.8888888888888888,\"#fdca26\"],[1.0,\"#f0f921\"]]}],\"heatmap\":[{\"type\":\"heatmap\",\"colorbar\":{\"outlinewidth\":0,\"ticks\":\"\"},\"colorscale\":[[0.0,\"#0d0887\"],[0.1111111111111111,\"#46039f\"],[0.2222222222222222,\"#7201a8\"],[0.3333333333333333,\"#9c179e\"],[0.4444444444444444,\"#bd3786\"],[0.5555555555555556,\"#d8576b\"],[0.6666666666666666,\"#ed7953\"],[0.7777777777777778,\"#fb9f3a\"],[0.8888888888888888,\"#fdca26\"],[1.0,\"#f0f921\"]]}],\"heatmapgl\":[{\"type\":\"heatmapgl\",\"colorbar\":{\"outlinewidth\":0,\"ticks\":\"\"},\"colorscale\":[[0.0,\"#0d0887\"],[0.1111111111111111,\"#46039f\"],[0.2222222222222222,\"#7201a8\"],[0.3333333333333333,\"#9c179e\"],[0.4444444444444444,\"#bd3786\"],[0.5555555555555556,\"#d8576b\"],[0.6666666666666666,\"#ed7953\"],[0.7777777777777778,\"#fb9f3a\"],[0.8888888888888888,\"#fdca26\"],[1.0,\"#f0f921\"]]}],\"contourcarpet\":[{\"type\":\"contourcarpet\",\"colorbar\":{\"outlinewidth\":0,\"ticks\":\"\"}}],\"contour\":[{\"type\":\"contour\",\"colorbar\":{\"outlinewidth\":0,\"ticks\":\"\"},\"colorscale\":[[0.0,\"#0d0887\"],[0.1111111111111111,\"#46039f\"],[0.2222222222222222,\"#7201a8\"],[0.3333333333333333,\"#9c179e\"],[0.4444444444444444,\"#bd3786\"],[0.5555555555555556,\"#d8576b\"],[0.6666666666666666,\"#ed7953\"],[0.7777777777777778,\"#fb9f3a\"],[0.8888888888888888,\"#fdca26\"],[1.0,\"#f0f921\"]]}],\"surface\":[{\"type\":\"surface\",\"colorbar\":{\"outlinewidth\":0,\"ticks\":\"\"},\"colorscale\":[[0.0,\"#0d0887\"],[0.1111111111111111,\"#46039f\"],[0.2222222222222222,\"#7201a8\"],[0.3333333333333333,\"#9c179e\"],[0.4444444444444444,\"#bd3786\"],[0.5555555555555556,\"#d8576b\"],[0.6666666666666666,\"#ed7953\"],[0.7777777777777778,\"#fb9f3a\"],[0.8888888888888888,\"#fdca26\"],[1.0,\"#f0f921\"]]}],\"mesh3d\":[{\"type\":\"mesh3d\",\"colorbar\":{\"outlinewidth\":0,\"ticks\":\"\"}}],\"scatter\":[{\"fillpattern\":{\"fillmode\":\"overlay\",\"size\":10,\"solidity\":0.2},\"type\":\"scatter\"}],\"parcoords\":[{\"type\":\"parcoords\",\"line\":{\"colorbar\":{\"outlinewidth\":0,\"ticks\":\"\"}}}],\"scatterpolargl\":[{\"type\":\"scatterpolargl\",\"marker\":{\"colorbar\":{\"outlinewidth\":0,\"ticks\":\"\"}}}],\"bar\":[{\"error_x\":{\"color\":\"#2a3f5f\"},\"error_y\":{\"color\":\"#2a3f5f\"},\"marker\":{\"line\":{\"color\":\"#E5ECF6\",\"width\":0.5},\"pattern\":{\"fillmode\":\"overlay\",\"size\":10,\"solidity\":0.2}},\"type\":\"bar\"}],\"scattergeo\":[{\"type\":\"scattergeo\",\"marker\":{\"colorbar\":{\"outlinewidth\":0,\"ticks\":\"\"}}}],\"scatterpolar\":[{\"type\":\"scatterpolar\",\"marker\":{\"colorbar\":{\"outlinewidth\":0,\"ticks\":\"\"}}}],\"histogram\":[{\"marker\":{\"pattern\":{\"fillmode\":\"overlay\",\"size\":10,\"solidity\":0.2}},\"type\":\"histogram\"}],\"scattergl\":[{\"type\":\"scattergl\",\"marker\":{\"colorbar\":{\"outlinewidth\":0,\"ticks\":\"\"}}}],\"scatter3d\":[{\"type\":\"scatter3d\",\"line\":{\"colorbar\":{\"outlinewidth\":0,\"ticks\":\"\"}},\"marker\":{\"colorbar\":{\"outlinewidth\":0,\"ticks\":\"\"}}}],\"scattermapbox\":[{\"type\":\"scattermapbox\",\"marker\":{\"colorbar\":{\"outlinewidth\":0,\"ticks\":\"\"}}}],\"scatterternary\":[{\"type\":\"scatterternary\",\"marker\":{\"colorbar\":{\"outlinewidth\":0,\"ticks\":\"\"}}}],\"scattercarpet\":[{\"type\":\"scattercarpet\",\"marker\":{\"colorbar\":{\"outlinewidth\":0,\"ticks\":\"\"}}}],\"carpet\":[{\"aaxis\":{\"endlinecolor\":\"#2a3f5f\",\"gridcolor\":\"white\",\"linecolor\":\"white\",\"minorgridcolor\":\"white\",\"startlinecolor\":\"#2a3f5f\"},\"baxis\":{\"endlinecolor\":\"#2a3f5f\",\"gridcolor\":\"white\",\"linecolor\":\"white\",\"minorgridcolor\":\"white\",\"startlinecolor\":\"#2a3f5f\"},\"type\":\"carpet\"}],\"table\":[{\"cells\":{\"fill\":{\"color\":\"#EBF0F8\"},\"line\":{\"color\":\"white\"}},\"header\":{\"fill\":{\"color\":\"#C8D4E3\"},\"line\":{\"color\":\"white\"}},\"type\":\"table\"}],\"barpolar\":[{\"marker\":{\"line\":{\"color\":\"#E5ECF6\",\"width\":0.5},\"pattern\":{\"fillmode\":\"overlay\",\"size\":10,\"solidity\":0.2}},\"type\":\"barpolar\"}],\"pie\":[{\"automargin\":true,\"type\":\"pie\"}]},\"layout\":{\"autotypenumbers\":\"strict\",\"colorway\":[\"#636efa\",\"#EF553B\",\"#00cc96\",\"#ab63fa\",\"#FFA15A\",\"#19d3f3\",\"#FF6692\",\"#B6E880\",\"#FF97FF\",\"#FECB52\"],\"font\":{\"color\":\"#2a3f5f\"},\"hovermode\":\"closest\",\"hoverlabel\":{\"align\":\"left\"},\"paper_bgcolor\":\"white\",\"plot_bgcolor\":\"#E5ECF6\",\"polar\":{\"bgcolor\":\"#E5ECF6\",\"angularaxis\":{\"gridcolor\":\"white\",\"linecolor\":\"white\",\"ticks\":\"\"},\"radialaxis\":{\"gridcolor\":\"white\",\"linecolor\":\"white\",\"ticks\":\"\"}},\"ternary\":{\"bgcolor\":\"#E5ECF6\",\"aaxis\":{\"gridcolor\":\"white\",\"linecolor\":\"white\",\"ticks\":\"\"},\"baxis\":{\"gridcolor\":\"white\",\"linecolor\":\"white\",\"ticks\":\"\"},\"caxis\":{\"gridcolor\":\"white\",\"linecolor\":\"white\",\"ticks\":\"\"}},\"coloraxis\":{\"colorbar\":{\"outlinewidth\":0,\"ticks\":\"\"}},\"colorscale\":{\"sequential\":[[0.0,\"#0d0887\"],[0.1111111111111111,\"#46039f\"],[0.2222222222222222,\"#7201a8\"],[0.3333333333333333,\"#9c179e\"],[0.4444444444444444,\"#bd3786\"],[0.5555555555555556,\"#d8576b\"],[0.6666666666666666,\"#ed7953\"],[0.7777777777777778,\"#fb9f3a\"],[0.8888888888888888,\"#fdca26\"],[1.0,\"#f0f921\"]],\"sequentialminus\":[[0.0,\"#0d0887\"],[0.1111111111111111,\"#46039f\"],[0.2222222222222222,\"#7201a8\"],[0.3333333333333333,\"#9c179e\"],[0.4444444444444444,\"#bd3786\"],[0.5555555555555556,\"#d8576b\"],[0.6666666666666666,\"#ed7953\"],[0.7777777777777778,\"#fb9f3a\"],[0.8888888888888888,\"#fdca26\"],[1.0,\"#f0f921\"]],\"diverging\":[[0,\"#8e0152\"],[0.1,\"#c51b7d\"],[0.2,\"#de77ae\"],[0.3,\"#f1b6da\"],[0.4,\"#fde0ef\"],[0.5,\"#f7f7f7\"],[0.6,\"#e6f5d0\"],[0.7,\"#b8e186\"],[0.8,\"#7fbc41\"],[0.9,\"#4d9221\"],[1,\"#276419\"]]},\"xaxis\":{\"gridcolor\":\"white\",\"linecolor\":\"white\",\"ticks\":\"\",\"title\":{\"standoff\":15},\"zerolinecolor\":\"white\",\"automargin\":true,\"zerolinewidth\":2},\"yaxis\":{\"gridcolor\":\"white\",\"linecolor\":\"white\",\"ticks\":\"\",\"title\":{\"standoff\":15},\"zerolinecolor\":\"white\",\"automargin\":true,\"zerolinewidth\":2},\"scene\":{\"xaxis\":{\"backgroundcolor\":\"#E5ECF6\",\"gridcolor\":\"white\",\"linecolor\":\"white\",\"showbackground\":true,\"ticks\":\"\",\"zerolinecolor\":\"white\",\"gridwidth\":2},\"yaxis\":{\"backgroundcolor\":\"#E5ECF6\",\"gridcolor\":\"white\",\"linecolor\":\"white\",\"showbackground\":true,\"ticks\":\"\",\"zerolinecolor\":\"white\",\"gridwidth\":2},\"zaxis\":{\"backgroundcolor\":\"#E5ECF6\",\"gridcolor\":\"white\",\"linecolor\":\"white\",\"showbackground\":true,\"ticks\":\"\",\"zerolinecolor\":\"white\",\"gridwidth\":2}},\"shapedefaults\":{\"line\":{\"color\":\"#2a3f5f\"}},\"annotationdefaults\":{\"arrowcolor\":\"#2a3f5f\",\"arrowhead\":0,\"arrowwidth\":1},\"geo\":{\"bgcolor\":\"white\",\"landcolor\":\"#E5ECF6\",\"subunitcolor\":\"white\",\"showland\":true,\"showlakes\":true,\"lakecolor\":\"white\"},\"title\":{\"x\":0.05},\"mapbox\":{\"style\":\"light\"}}},\"xaxis\":{\"anchor\":\"y\",\"domain\":[0.0,1.0],\"title\":{\"text\":\"x\"}},\"yaxis\":{\"anchor\":\"x\",\"domain\":[0.0,1.0],\"title\":{\"text\":\"y\"}},\"legend\":{\"title\":{\"text\":\"fruit\"},\"tracegroupgap\":0},\"margin\":{\"t\":60},\"clickmode\":\"event+select\"},                        {\"responsive\": true}                    ).then(function(){\n",
              "                            \n",
              "var gd = document.getElementById('c24a14bc-fd2b-4dd8-a073-d572039043aa');\n",
              "var x = new MutationObserver(function (mutations, observer) {{\n",
              "        var display = window.getComputedStyle(gd).display;\n",
              "        if (!display || display === 'none') {{\n",
              "            console.log([gd, 'removed!']);\n",
              "            Plotly.purge(gd);\n",
              "            observer.disconnect();\n",
              "        }}\n",
              "}});\n",
              "\n",
              "// Listen for the removal of the full notebook cells\n",
              "var notebookContainer = gd.closest('#notebook-container');\n",
              "if (notebookContainer) {{\n",
              "    x.observe(notebookContainer, {childList: true});\n",
              "}}\n",
              "\n",
              "// Listen for the clearing of the current output cell\n",
              "var outputEl = gd.closest('.output');\n",
              "if (outputEl) {{\n",
              "    x.observe(outputEl, {childList: true});\n",
              "}}\n",
              "\n",
              "                        })                };                            </script>        </div>\n",
              "</body>\n",
              "</html>"
            ]
          },
          "metadata": {}
        }
      ]
    },
    {
      "cell_type": "code",
      "source": [
        "app.layout = html.Div([\n",
        "    dcc.Graph(\n",
        "        id='basic-interactions',\n",
        "        figure=fig\n",
        "    ),\n",
        "\n",
        "    html.Div(className='row', children=[\n",
        "        html.Div([\n",
        "            dcc.Markdown(\"\"\"\n",
        "                **Hover Data**\n",
        "\n",
        "                Mouse over values in the graph.\n",
        "            \"\"\"),\n",
        "            html.Pre(id='hover-data', style=styles['pre'])\n",
        "        ], className='three columns'),\n",
        "\n",
        "        html.Div([\n",
        "            dcc.Markdown(\"\"\"\n",
        "                **Click Data**\n",
        "\n",
        "                Click on points in the graph.\n",
        "            \"\"\"),\n",
        "            html.Pre(id='click-data', style=styles['pre']),\n",
        "        ], className='three columns'),\n",
        "\n",
        "        html.Div([\n",
        "            dcc.Markdown(\"\"\"\n",
        "                **Selection Data**\n",
        "\n",
        "                Choose the lasso or rectangle tool in the graph's menu\n",
        "                bar and then select points in the graph.\n",
        "\n",
        "                Note that if `layout.clickmode = 'event+select'`, selection data also\n",
        "                accumulates (or un-accumulates) selected data if you hold down the shift\n",
        "                button while clicking.\n",
        "            \"\"\"),\n",
        "            html.Pre(id='selected-data', style=styles['pre']),\n",
        "        ], className='three columns'),\n",
        "\n",
        "        html.Div([\n",
        "            dcc.Markdown(\"\"\"\n",
        "                **Zoom and Relayout Data**\n",
        "\n",
        "                Click and drag on the graph to zoom or click on the zoom\n",
        "                buttons in the graph's menu bar.\n",
        "                Clicking on legend items will also fire\n",
        "                this event.\n",
        "            \"\"\"),\n",
        "            html.Pre(id='relayout-data', style=styles['pre']),\n",
        "        ], className='three columns')\n",
        "    ])\n",
        "])\n",
        "\n",
        "\n",
        "@app.callback(\n",
        "    Output('hover-data', 'children'),\n",
        "    Input('basic-interactions', 'hoverData'))\n",
        "def display_hover_data(hoverData):\n",
        "    return json.dumps(hoverData, indent=2)\n",
        "\n",
        "\n",
        "@app.callback(\n",
        "    Output('click-data', 'children'),\n",
        "    Input('basic-interactions', 'clickData'))\n",
        "def display_click_data(clickData):\n",
        "    return json.dumps(clickData, indent=2)\n",
        "\n",
        "\n",
        "@app.callback(\n",
        "    Output('selected-data', 'children'),\n",
        "    Input('basic-interactions', 'selectedData'))\n",
        "def display_selected_data(selectedData):\n",
        "    return json.dumps(selectedData, indent=2)\n",
        "\n",
        "\n",
        "@app.callback(\n",
        "    Output('relayout-data', 'children'),\n",
        "    Input('basic-interactions', 'relayoutData'))\n",
        "def display_relayout_data(relayoutData):\n",
        "    return json.dumps(relayoutData, indent=2)"
      ],
      "metadata": {
        "id": "tLUDBJzBMEFV"
      },
      "execution_count": null,
      "outputs": []
    },
    {
      "cell_type": "code",
      "source": [
        "if __name__ == \"__main__\":\n",
        "    app.run_server(debug=True,mode='inline')"
      ],
      "metadata": {
        "colab": {
          "base_uri": "https://localhost:8080/",
          "height": 741
        },
        "id": "cdk86YQfMPhD",
        "outputId": "551f7bbd-b7ca-4fa7-b7f1-4c2311c1675f"
      },
      "execution_count": null,
      "outputs": [
        {
          "output_type": "stream",
          "name": "stdout",
          "text": [
            "Dash is running on http://127.0.0.1:8050/\n",
            "\n"
          ]
        },
        {
          "output_type": "stream",
          "name": "stderr",
          "text": [
            "INFO:dash.dash:Dash is running on http://127.0.0.1:8050/\n",
            "\n"
          ]
        },
        {
          "output_type": "display_data",
          "data": {
            "text/plain": [
              "<IPython.core.display.Javascript object>"
            ],
            "application/javascript": [
              "(async (port, path, width, height, cache, element) => {\n",
              "    if (!google.colab.kernel.accessAllowed && !cache) {\n",
              "      return;\n",
              "    }\n",
              "    element.appendChild(document.createTextNode(''));\n",
              "    const url = await google.colab.kernel.proxyPort(port, {cache});\n",
              "    const iframe = document.createElement('iframe');\n",
              "    iframe.src = new URL(path, url).toString();\n",
              "    iframe.height = height;\n",
              "    iframe.width = width;\n",
              "    iframe.style.border = 0;\n",
              "    iframe.allow = [\n",
              "        'accelerometer',\n",
              "        'autoplay',\n",
              "        'camera',\n",
              "        'clipboard-read',\n",
              "        'clipboard-write',\n",
              "        'gyroscope',\n",
              "        'magnetometer',\n",
              "        'microphone',\n",
              "        'serial',\n",
              "        'usb',\n",
              "        'xr-spatial-tracking',\n",
              "    ].join('; ');\n",
              "    element.appendChild(iframe);\n",
              "  })(8050, \"/\", \"100%\", 650, false, window.element)"
            ]
          },
          "metadata": {}
        }
      ]
    },
    {
      "cell_type": "markdown",
      "source": [
        "### Dash Building Block 4 - Components"
      ],
      "metadata": {
        "id": "ZHuTR7i4M_IM"
      }
    },
    {
      "cell_type": "markdown",
      "source": [
        "# Interactive Seismic Visualization App"
      ],
      "metadata": {
        "id": "tzBmQ8TkNXd7"
      }
    },
    {
      "cell_type": "code",
      "source": [],
      "metadata": {
        "id": "MJk5J5xmNEhJ"
      },
      "execution_count": null,
      "outputs": []
    }
  ],
  "metadata": {
    "kernelspec": {
      "display_name": "Python 3",
      "language": "python",
      "name": "python3"
    },
    "language_info": {
      "codemirror_mode": {
        "name": "ipython",
        "version": 3
      },
      "file_extension": ".py",
      "mimetype": "text/x-python",
      "name": "python",
      "nbconvert_exporter": "python",
      "pygments_lexer": "ipython3",
      "version": "3.10.5"
    },
    "orig_nbformat": 4,
    "colab": {
      "provenance": [],
      "toc_visible": true
    }
  },
  "nbformat": 4,
  "nbformat_minor": 0
}